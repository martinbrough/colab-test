{
  "nbformat": 4,
  "nbformat_minor": 0,
  "metadata": {
    "colab": {
      "name": "twitterarchive.ipynb",
      "provenance": [],
      "collapsed_sections": [],
      "authorship_tag": "ABX9TyPyxpRHQEd6BUHF4iXugHlh",
      "include_colab_link": true
    },
    "kernelspec": {
      "name": "python3",
      "display_name": "Python 3"
    }
  },
  "cells": [
    {
      "cell_type": "markdown",
      "metadata": {
        "id": "view-in-github",
        "colab_type": "text"
      },
      "source": [
        "<a href=\"https://colab.research.google.com/github/martinbrough/colab-test/blob/master/twitterarchive.ipynb\" target=\"_parent\"><img src=\"https://colab.research.google.com/assets/colab-badge.svg\" alt=\"Open In Colab\"/></a>"
      ]
    },
    {
      "cell_type": "markdown",
      "metadata": {
        "id": "_PY-eeJLvGA0",
        "colab_type": "text"
      },
      "source": [
        "## Twitter News Summarizer\n",
        "\n",
        "This notebook gets tweets from a list, finds the most popular external links and then summarises them\n"
      ]
    },
    {
      "cell_type": "code",
      "metadata": {
        "id": "d0LUxSLcvG_s",
        "colab_type": "code",
        "outputId": "9d2c59b3-0e25-4b09-d5ef-c1df11653b39",
        "colab": {
          "base_uri": "https://localhost:8080/",
          "height": 374
        }
      },
      "source": [
        "# install any libraries not included with Colab\n",
        "!pip install newspaper3k"
      ],
      "execution_count": 0,
      "outputs": [
        {
          "output_type": "stream",
          "text": [
            "Requirement already satisfied: newspaper3k in /usr/local/lib/python3.6/dist-packages (0.2.8)\n",
            "Requirement already satisfied: beautifulsoup4>=4.4.1 in /usr/local/lib/python3.6/dist-packages (from newspaper3k) (4.6.3)\n",
            "Requirement already satisfied: feedparser>=5.2.1 in /usr/local/lib/python3.6/dist-packages (from newspaper3k) (5.2.1)\n",
            "Requirement already satisfied: requests>=2.10.0 in /usr/local/lib/python3.6/dist-packages (from newspaper3k) (2.21.0)\n",
            "Requirement already satisfied: tinysegmenter==0.3 in /usr/local/lib/python3.6/dist-packages (from newspaper3k) (0.3)\n",
            "Requirement already satisfied: tldextract>=2.0.1 in /usr/local/lib/python3.6/dist-packages (from newspaper3k) (2.2.2)\n",
            "Requirement already satisfied: feedfinder2>=0.0.4 in /usr/local/lib/python3.6/dist-packages (from newspaper3k) (0.0.4)\n",
            "Requirement already satisfied: jieba3k>=0.35.1 in /usr/local/lib/python3.6/dist-packages (from newspaper3k) (0.35.1)\n",
            "Requirement already satisfied: nltk>=3.2.1 in /usr/local/lib/python3.6/dist-packages (from newspaper3k) (3.2.5)\n",
            "Requirement already satisfied: lxml>=3.6.0 in /usr/local/lib/python3.6/dist-packages (from newspaper3k) (4.2.6)\n",
            "Requirement already satisfied: cssselect>=0.9.2 in /usr/local/lib/python3.6/dist-packages (from newspaper3k) (1.1.0)\n",
            "Requirement already satisfied: python-dateutil>=2.5.3 in /usr/local/lib/python3.6/dist-packages (from newspaper3k) (2.8.1)\n",
            "Requirement already satisfied: Pillow>=3.3.0 in /usr/local/lib/python3.6/dist-packages (from newspaper3k) (7.0.0)\n",
            "Requirement already satisfied: PyYAML>=3.11 in /usr/local/lib/python3.6/dist-packages (from newspaper3k) (3.13)\n",
            "Requirement already satisfied: idna<2.9,>=2.5 in /usr/local/lib/python3.6/dist-packages (from requests>=2.10.0->newspaper3k) (2.8)\n",
            "Requirement already satisfied: chardet<3.1.0,>=3.0.2 in /usr/local/lib/python3.6/dist-packages (from requests>=2.10.0->newspaper3k) (3.0.4)\n",
            "Requirement already satisfied: certifi>=2017.4.17 in /usr/local/lib/python3.6/dist-packages (from requests>=2.10.0->newspaper3k) (2019.11.28)\n",
            "Requirement already satisfied: urllib3<1.25,>=1.21.1 in /usr/local/lib/python3.6/dist-packages (from requests>=2.10.0->newspaper3k) (1.24.3)\n",
            "Requirement already satisfied: setuptools in /usr/local/lib/python3.6/dist-packages (from tldextract>=2.0.1->newspaper3k) (46.1.3)\n",
            "Requirement already satisfied: requests-file>=1.4 in /usr/local/lib/python3.6/dist-packages (from tldextract>=2.0.1->newspaper3k) (1.4.3)\n",
            "Requirement already satisfied: six in /usr/local/lib/python3.6/dist-packages (from feedfinder2>=0.0.4->newspaper3k) (1.12.0)\n"
          ],
          "name": "stdout"
        }
      ]
    },
    {
      "cell_type": "code",
      "metadata": {
        "id": "SCAew27Jcj6v",
        "colab_type": "code",
        "outputId": "84816926-661b-4496-dc5a-7f7aac04d767",
        "colab": {
          "base_uri": "https://localhost:8080/",
          "height": 68
        }
      },
      "source": [
        "# imports\n",
        "import tweepy\n",
        "from tweepy import OAuthHandler\n",
        "import numpy as np\n",
        "import pandas as pd\n",
        "from datetime import datetime, timedelta\n",
        "import urllib.request\n",
        "import requests\n",
        "import re\n",
        "import newspaper\n",
        "from newspaper import Article\n",
        "import nltk\n",
        "nltk.download('punkt')\n",
        "\n"
      ],
      "execution_count": 0,
      "outputs": [
        {
          "output_type": "stream",
          "text": [
            "[nltk_data] Downloading package punkt to /root/nltk_data...\n",
            "[nltk_data]   Package punkt is already up-to-date!\n"
          ],
          "name": "stdout"
        },
        {
          "output_type": "execute_result",
          "data": {
            "text/plain": [
              "True"
            ]
          },
          "metadata": {
            "tags": []
          },
          "execution_count": 163
        }
      ]
    },
    {
      "cell_type": "markdown",
      "metadata": {
        "id": "GEAaBUFHa1q5",
        "colab_type": "text"
      },
      "source": [
        "Log into twitter and get a dataframe with tweets"
      ]
    },
    {
      "cell_type": "code",
      "metadata": {
        "id": "PNSa1LkJwApE",
        "colab_type": "code",
        "colab": {}
      },
      "source": [
        "# Twitter Credentials\n",
        "twitter_key = 'mzKL70g7HoAmJ84PWxdBcd0qV'\n",
        "twitter_secret_key = 'QZRXdlFKEuCRo5MwyS1OmdlZJjTNXTJLEFHrUD1T6PCzarUUou'\n",
        "access_token = '355045555-BW5a4OVBx488dWchB3GSE4e2BfzzA5myvMY7jHI9'\n",
        "access_token_secret = 'CCpKwnNrxpEjUtRnfbCQCi6nISpgBU9aXsy0K4oC9GyEK'\n",
        "\n"
      ],
      "execution_count": 0,
      "outputs": []
    },
    {
      "cell_type": "code",
      "metadata": {
        "id": "XLNenbM3wOHR",
        "colab_type": "code",
        "colab": {}
      },
      "source": [
        "# Authenticate\n",
        "auth = tweepy.OAuthHandler(twitter_key, twitter_secret_key)\n",
        "auth.set_access_token(access_token, access_token_secret)\n",
        "\n",
        "api = tweepy.API(auth, wait_on_rate_limit=True, wait_on_rate_limit_notify=True)\n",
        "\n",
        "if (not api):\n",
        "    print (\"Can't Authenticate\")\n",
        "    sys.exit(-1)\n"
      ],
      "execution_count": 0,
      "outputs": []
    },
    {
      "cell_type": "code",
      "metadata": {
        "id": "pIjyMELrwRcw",
        "colab_type": "code",
        "colab": {}
      },
      "source": [
        "# Get tweets\n",
        "tweets = tweepy.Cursor(api.list_timeline, owner_screen_name=\"@martinbrough\", slug=\"ESG\", since_id = 1247884835441405957, include_entities=True).items(100)"
      ],
      "execution_count": 0,
      "outputs": []
    },
    {
      "cell_type": "code",
      "metadata": {
        "colab_type": "code",
        "id": "JPvz2zxcZEiU",
        "colab": {}
      },
      "source": [
        "#Set up the dataframe with the tweets and add a blank column ready for the expended external links\n",
        "tweet_columns = ['AuthorName', 'AuthorScreenName', 'TweetDate', 'TweetId', 'TweetText', 'RetweetStatus','RetweetCount','InReplyTo', 'Urls']\n",
        "tweet_list = [[tweet.author.name, tweet.author.screen_name, tweet.created_at, tweet.id, tweet.text, tweet.retweeted,tweet.retweet_count, tweet.in_reply_to_screen_name, tweet.entities['urls']] for tweet in tweets]\n",
        "tweet_df = pd.DataFrame(data=tweet_list, columns=tweet_columns)\n",
        "tweet_df['Link'] = ''\n"
      ],
      "execution_count": 0,
      "outputs": []
    },
    {
      "cell_type": "code",
      "metadata": {
        "id": "row3YoWRz-hM",
        "colab_type": "code",
        "outputId": "8866e757-3974-4974-cbde-76f0b876b117",
        "colab": {
          "base_uri": "https://localhost:8080/",
          "height": 122
        }
      },
      "source": [
        "#Get the urls and populate the 'Link' column with any expanded external links\n",
        "for i in range(0,len(tweet_df.index)):\n",
        "# for i in range(324,380):\n",
        "  links = tweet_df['Urls'][i]\n",
        "  actual_link = ''\n",
        "  if len(links)>0:\n",
        "    link = links[0]\n",
        "    expanded_url = link['expanded_url']\n",
        "    if str(expanded_url).find('https://twitter.com/') == -1:\n",
        "      try:\n",
        "        r= requests.head(expanded_url, timeout=10)\n",
        "        if r.status_code in range (200,300):\n",
        "          actual_link = r.url\n",
        "        elif r.status_code in range (300,400):\n",
        "          actual_link = r.headers['location']\n",
        "        else:\n",
        "          actual_link = expanded_url\n",
        "      except requests.exceptions.Timeout as e:\n",
        "        actual_link = expanded_url\n",
        "        print(e)\n",
        "      print('Tweet ' + str(i) + ' url ' + str(expanded_url) + ' link is ' + str(actual_link))\n",
        "      tweet_df.loc[i, 'Link'] = actual_link\n",
        "    else:\n",
        "      print('Tweet ' + str(i) + ' url ' + str(expanded_url) + ' is a twitter link.')\n"
      ],
      "execution_count": 0,
      "outputs": [
        {
          "output_type": "stream",
          "text": [
            "Tweet 1 url https://twitter.com/i/web/status/1247885358194294786 is a twiiter link.\n",
            "Tweet 2 url https://twitter.com/i/web/status/1247885319707353088 is a twiiter link.\n",
            "Tweet 3 url https://twitter.com/i/web/status/1247885169261858816 is a twiiter link.\n",
            "Tweet 4 url https://reut.rs/2UTfcmg link is https://www.reuters.com/article/us-tiffany-m-a-lvmh-idUSKBN21Q1RL?taid=5e8dd72f9a7fcd0001c4c4d0&utm_campaign=trueAnthem:+Trending+Content&utm_medium=trueAnthem&utm_source=twitter\n",
            "Tweet 5 url https://twitter.com/i/web/status/1247885047899668483 is a twiiter link.\n"
          ],
          "name": "stdout"
        }
      ]
    },
    {
      "cell_type": "code",
      "metadata": {
        "id": "b6PfWxfIz-rN",
        "colab_type": "code",
        "outputId": "26aaa5a8-d748-4fbf-f0f0-ca6e585d189b",
        "colab": {
          "base_uri": "https://localhost:8080/",
          "height": 490
        }
      },
      "source": [
        "tweet_df"
      ],
      "execution_count": 0,
      "outputs": [
        {
          "output_type": "execute_result",
          "data": {
            "text/html": [
              "<div>\n",
              "<style scoped>\n",
              "    .dataframe tbody tr th:only-of-type {\n",
              "        vertical-align: middle;\n",
              "    }\n",
              "\n",
              "    .dataframe tbody tr th {\n",
              "        vertical-align: top;\n",
              "    }\n",
              "\n",
              "    .dataframe thead th {\n",
              "        text-align: right;\n",
              "    }\n",
              "</style>\n",
              "<table border=\"1\" class=\"dataframe\">\n",
              "  <thead>\n",
              "    <tr style=\"text-align: right;\">\n",
              "      <th></th>\n",
              "      <th>AuthorName</th>\n",
              "      <th>AuthorScreenName</th>\n",
              "      <th>TweetDate</th>\n",
              "      <th>TweetId</th>\n",
              "      <th>TweetText</th>\n",
              "      <th>RetweetStatus</th>\n",
              "      <th>RetweetCount</th>\n",
              "      <th>InReplyTo</th>\n",
              "      <th>Urls</th>\n",
              "      <th>Link</th>\n",
              "    </tr>\n",
              "  </thead>\n",
              "  <tbody>\n",
              "    <tr>\n",
              "      <th>0</th>\n",
              "      <td>Michael S. Taylor</td>\n",
              "      <td>mtaylor_nz</td>\n",
              "      <td>2020-04-08 13:54:07</td>\n",
              "      <td>1247885436116058113</td>\n",
              "      <td>RT @wallaceme: Amid all the worrying news, thi...</td>\n",
              "      <td>False</td>\n",
              "      <td>18204</td>\n",
              "      <td>None</td>\n",
              "      <td>[]</td>\n",
              "      <td></td>\n",
              "    </tr>\n",
              "    <tr>\n",
              "      <th>1</th>\n",
              "      <td>Green Party Ireland</td>\n",
              "      <td>greenparty_ie</td>\n",
              "      <td>2020-04-08 13:53:48</td>\n",
              "      <td>1247885358194294786</td>\n",
              "      <td>On Intl #TravellerAndRomaDay2020, we're callin...</td>\n",
              "      <td>False</td>\n",
              "      <td>1</td>\n",
              "      <td>None</td>\n",
              "      <td>[{'url': 'https://t.co/EdHfe96LI3', 'expanded_...</td>\n",
              "      <td></td>\n",
              "    </tr>\n",
              "    <tr>\n",
              "      <th>2</th>\n",
              "      <td>Eurelectric</td>\n",
              "      <td>eurelectric</td>\n",
              "      <td>2020-04-08 13:53:39</td>\n",
              "      <td>1247885319707353088</td>\n",
              "      <td>With the public consultation for the Alternati...</td>\n",
              "      <td>False</td>\n",
              "      <td>0</td>\n",
              "      <td>None</td>\n",
              "      <td>[{'url': 'https://t.co/b4XIhaxod3', 'expanded_...</td>\n",
              "      <td></td>\n",
              "    </tr>\n",
              "    <tr>\n",
              "      <th>3</th>\n",
              "      <td>ACEA</td>\n",
              "      <td>ACEA_eu</td>\n",
              "      <td>2020-04-08 13:53:03</td>\n",
              "      <td>1247885169261858816</td>\n",
              "      <td>#RoadSafety fact: #speeding is the main cause ...</td>\n",
              "      <td>False</td>\n",
              "      <td>0</td>\n",
              "      <td>None</td>\n",
              "      <td>[{'url': 'https://t.co/wGcv8m5Pbq', 'expanded_...</td>\n",
              "      <td></td>\n",
              "    </tr>\n",
              "    <tr>\n",
              "      <th>4</th>\n",
              "      <td>Reuters Business</td>\n",
              "      <td>ReutersBiz</td>\n",
              "      <td>2020-04-08 13:52:49</td>\n",
              "      <td>1247885109174255616</td>\n",
              "      <td>Tiffany says Australian regulators seek more t...</td>\n",
              "      <td>False</td>\n",
              "      <td>1</td>\n",
              "      <td>None</td>\n",
              "      <td>[{'url': 'https://t.co/J4tm8hqKFK', 'expanded_...</td>\n",
              "      <td>https://www.reuters.com/article/us-tiffany-m-a...</td>\n",
              "    </tr>\n",
              "    <tr>\n",
              "      <th>5</th>\n",
              "      <td>Oxford Martin School</td>\n",
              "      <td>oxmartinschool</td>\n",
              "      <td>2020-04-08 13:52:34</td>\n",
              "      <td>1247885047899668483</td>\n",
              "      <td>In Feb, @WHO said that the #coronavirus #pande...</td>\n",
              "      <td>False</td>\n",
              "      <td>0</td>\n",
              "      <td>None</td>\n",
              "      <td>[{'url': 'https://t.co/M16sx4yvTr', 'expanded_...</td>\n",
              "      <td></td>\n",
              "    </tr>\n",
              "    <tr>\n",
              "      <th>6</th>\n",
              "      <td>Robert Jenrick</td>\n",
              "      <td>RobertJenrick</td>\n",
              "      <td>2020-04-08 13:52:31</td>\n",
              "      <td>1247885033576099841</td>\n",
              "      <td>RT @RobertJenrick: To the Jewish community thr...</td>\n",
              "      <td>False</td>\n",
              "      <td>51</td>\n",
              "      <td>None</td>\n",
              "      <td>[]</td>\n",
              "      <td></td>\n",
              "    </tr>\n",
              "  </tbody>\n",
              "</table>\n",
              "</div>"
            ],
            "text/plain": [
              "             AuthorName  ...                                               Link\n",
              "0     Michael S. Taylor  ...                                                   \n",
              "1   Green Party Ireland  ...                                                   \n",
              "2           Eurelectric  ...                                                   \n",
              "3                  ACEA  ...                                                   \n",
              "4      Reuters Business  ...  https://www.reuters.com/article/us-tiffany-m-a...\n",
              "5  Oxford Martin School  ...                                                   \n",
              "6        Robert Jenrick  ...                                                   \n",
              "\n",
              "[7 rows x 10 columns]"
            ]
          },
          "metadata": {
            "tags": []
          },
          "execution_count": 216
        }
      ]
    },
    {
      "cell_type": "markdown",
      "metadata": {
        "id": "03fc1rR1E8Lp",
        "colab_type": "text"
      },
      "source": [
        "Consolidate the dataframe to find the most shared external links, then get the news headlines and summaries\n",
        "\n"
      ]
    },
    {
      "cell_type": "code",
      "metadata": {
        "id": "4R1UEqHhz-u7",
        "colab_type": "code",
        "colab": {}
      },
      "source": [
        "news_df = tweet_df.groupby('Link').agg({'AuthorName': 'count', 'RetweetCount':sum})\n",
        "news_df.sort_values(by=['AuthorName'], ascending=False, inplace=True)\n",
        "top_news_df = news_df.reset_index()[1:11]\n",
        "top_news_df['Headline']=''\n",
        "top_news_df['Date']=''\n",
        "top_news_df['Summary']=''\n",
        "top_news_df['Text']=''"
      ],
      "execution_count": 0,
      "outputs": []
    },
    {
      "cell_type": "code",
      "metadata": {
        "id": "7q2Vgj90gmCW",
        "colab_type": "code",
        "outputId": "7ea64aab-3a1f-4493-8da3-eb1da3c3fa7d",
        "colab": {
          "base_uri": "https://localhost:8080/",
          "height": 1000
        }
      },
      "source": [
        "for i in range(1,11):\n",
        "  story_link = top_news_df['Link'][i]\n",
        "  article = Article(story_link)\n",
        "  article.download()\n",
        "  article.parse()\n",
        "  article.nlp()\n",
        "  top_news_df.loc[i, 'Headline'] = article.title\n",
        "  top_news_df.loc[i, 'Date'] = article.publish_date\n",
        "  top_news_df.loc[i, 'Summary'] = article.summary\n",
        "  top_news_df.loc[i, 'Text'] = article.text\n",
        "  print('')\n",
        "  print(str(i) + ': ' + article.title)  \n",
        "  print(story_link) \n",
        "  print(article.summary)"
      ],
      "execution_count": 0,
      "outputs": [
        {
          "output_type": "stream",
          "text": [
            "\n",
            "1: Les conséquences, par secteur économique, du confinement des Français\n",
            "https://www.lemonde.fr/politique/article/2020/04/07/les-consequences-par-secteur-economique-du-confinement-des-francais_6035832_823448.html\n",
            "PHILIPPE LOPEZ / AFPLe gouvernement est encore en train de prendre la mesure de la crise économique qui accompagne et suivra la crise sanitaire du Covid-19.\n",
            "« C’est dire l’ampleur du choc économique auquel nous sommes confrontés », a insisté Bruno Le Maire, alors que de nombreux secteurs sont à l’arrêt du fait du confinement.\n",
            "En se basant sur des données statistiques du recensement de 2016 et sur une étude européenne de 2019 sur le télétravail, les économistes tentent d’estimer les effets du confinement sur l’emploi et la valeur ajoutée par secteur.\n",
            "La France mieux équipéeEn termes de valeur ajoutée, « parmi les secteurs les plus affectés, on retrouve ceux directement affectés par les mesures de distanciation sociale, comme la culture et les loisirs (−7,7 %) et l’hôtellerie-restauration (− 6,8 %).\n",
            "« Ce sont les secteurs qui voient se répercuter la chute de la demande des autres secteurs.\n",
            "\n",
            "2: 5 ways to manage a crisis, according to McKinsey\n",
            "https://www.weforum.org/agenda/2020/04/outbreaks-like-coronavirus-start-in-and-spread-from-the-edges-of-cities\n",
            "As the coronavirus pandemic progresses, business leaders are looking for effective ways to respond.\n",
            "For many decades, we at McKinsey have helped leaders navigate all manner of crises across sectors all over the world.\n",
            "Let new leaders rise to the occasionJust as you’ll shift responsibilities to a network of teams, you’ll want others to make and implement decisions.\n",
            "To do that, take brief but frequent pauses from managing the crisis response.\n",
            "As stress and fatigue build up during a crisis, you’ll have more trouble processing information, remaining level-headed, and exercising good judgment.\n",
            "\n",
            "3: Carbon Tracker warns China not to lock in coal power with COVID-19 stimulus\n",
            "https://www.spglobal.com/marketintelligence/en/news-insights/latest-news-headlines/carbon-tracker-warns-china-not-to-lock-in-coal-power-with-covid-19-stimulus-57951297\n",
            "Attempts to stimulate the economy in the wake of the COVID-19 virus could lock in coal-fired power generation in contradiction to global climate goals in places like China and leave developing countries to deal with uneconomic power generation in the future, according to a new report from Carbon Tracker.\n",
            "The sustainability-oriented financial think tank estimated that 46% of the world's coal plants will run at a loss in 2020, with the estimate climbing to 52% by 2030.\n",
            "China is showing signs it is willing to relax standards that would make it easier to approve new coal plants in China, according to Sundaresan.\n",
            "However, Carbon Tracker's research shows that the average capacity factors of the operating coal fleet were only 48% in 2019.\n",
            "\"This is mainly due to regulatory and policy structures that favor coal power.\"\n",
            "\n",
            "4: Wall Street set to open higher on hopes U.S. outbreak nearing peak\n",
            "https://www.reuters.com/article/us-usa-stocks/futures-edge-higher-as-trump-suggests-u-s-outbreak-nearing-peak-idUSKBN21Q1AJ\n",
            "(Reuters) - Wall Street was set to open higher on Wednesday on hopes that the coronavirus outbreak in the United States was nearing its peak and expectations Congress will push through hundreds of billions more in emergency support for the battered economy.\n",
            "FILE PHOTO: The Wall Street sign is pictured at the New York Stock exchange (NYSE) in the Manhattan borough of New York City, New York, U.S., March 9, 2020.\n",
            "“Traders are trying to pick a bottom in shares and scientists are trying to pick the peak in the pandemic.\n",
            "Corporate earnings season starts next week with earnings from Wall Street banks, and companies are expected to outline drastic measures as they look to bolster dwindling cash reserves.\n",
            "Shares of UPS (UPS.N) and FedEx (FDX.N) rose up 4.6% to 6.5% after Amazon.com Inc (AMZN.O) said it would suspend its U.S. shipping service.\n",
            "\n",
            "5: Equinor powers ahead with floating wind turbines despite oil crash\n",
            "https://www.reuters.com/article/us-equinor-windfarm-idUSKBN21Q1VA?taid=5e8dce6d53c773000108f2db&utm_campaign=trueAnthem:+Trending+Content&utm_medium=trueAnthem&utm_source=twitter\n",
            "FILE PHOTO: Equinor's logo is seen at the company's headquarters in Stavanger, Norway December 5, 2019.\n",
            "REUTERS/Ints Kalnins/File PhotoOSLO (Reuters) - Norway approved on Wednesday Equinor’s 4.8 billion Norwegian crowns ($466 million) plan to build floating offshore wind turbines that will provide electricity to North Sea oil and gas platforms, the energy ministry said.\n",
            "The long-planned project is going ahead despite Equinor’s decision to cut investment following a plunge in oil prices that has reduced the company’s cash flow.\n",
            "Five platforms at Norway’s Snorre and Gullfaks fields will be the first in the world to receive power from a floating wind park, the oil company said in a separate statement.\n",
            "Equinor’s partners in the two licences are OMV, Idemitsu, Wintershall Dea [WINT.UL], Eni’s Vaar Energi and state-owned Petoro.\n",
            "\n",
            "6: Taylor Wimpey launches Pay It Forward scheme for sub-contractors\n",
            "https://www.reuters.com/article/uk-health-coronavirus-taylor-wimpey-idUKKBN21Q0SO?taid=5e8dccef53c773000108f2d8&utm_campaign=trueAnthem:+Trending+Content&utm_medium=trueAnthem&utm_source=twitter\n",
            "FILE PHOTO: A Taylor Wimpey closed building site, as the spread of the coronavirus disease (COVID-19) continues in St Albans, Britain, March 24, 2020.\n",
            "REUTERS/Paul Childs(Reuters) - British homebuilder Taylor Wimpey (TW.L) will make advance payments to subcontractors for work to be completed in future under a new scheme aimed at propping up self-employed workers forced to stay home by the coronavirus lockdown.\n",
            "The company, Britain’s third largest builder of new homes, said the “Pay It Forward” scheme aimed to support tradesmen waiting for government aid payouts or who did not qualify for them, and sought to prevent the kind of financial collapse which many experienced after the 2008 financial crisis.\n",
            "Payments would be made only to contractors who have a long-term relationship with the company, it said.\n",
            "“Supporting those we rely on is not only the right thing to do but will help ensure we emerge from the COVID-19 pandemic in the best possible place,” Chief Executive Pete Redfern said.\n",
            "\n",
            "7: ECB urges measures worth 1.5 trillion euros this year to tackle virus crisis - sources\n",
            "https://www.reuters.com/article/uk-health-coronavirus-eurozone-idUKKBN21Q0U9?taid=5e8dd4769a7fcd0001c4c4c8&utm_campaign=trueAnthem:+Trending+Content&utm_medium=trueAnthem&utm_source=twitter\n",
            "REUTERS/Ralph Orlowski/File PhotoBRUSSELS (Reuters) - The European Central Bank told euro zone finance ministers that the bloc may need fiscal measures worth up to 1.5 trillion euros (1.30 trillion pounds) this year to tackle the economic crisis caused by the COVID-19 epidemic, officials told Reuters.\n",
            "In a videoconference meeting, the EU Commission estimated that the bloc’s economy could shrink by 10% this year, officials said.\n",
            "In the conference, which ended on Wednesday without a deal after 16 hours of talks, Germany, the Netherlands and other northern European countries were ready to support EU measures worth 500 billion euros, officials who participated in the meeting said.\n",
            "The EU support would back up national measures, but the overall fiscal effort may not be enough to meet total financing needs, the officials said.\n",
            "Related Coverage Irresponsible if EU countries to leave ECB alone in virus fight: KazaksIn the meeting France, Italy and Spain said the European effort to tackle the crisis should be well above 1 trillion euros this year, officials said, in line with the ECB estimate of financing needs of 1 to 1.5 trillion.\n",
            "\n",
            "8: COVID-19 demonstrates the need to address ESG risks in supply chains\n",
            "https://www.responsible-investor.com/articles/covid-19-demonstrates-the-need-to-address-esg-risks-in-supply-chains\n",
            "Once deemed reputational and regulatory risks, sub-standard labour conditions are now also manifesting as operational ones.\n",
            "Understanding how labour vulnerabilities and working conditions in lower-tier supply chains can impact operations will become core to investor assessments of supply chain management and business continuity.\n",
            "Many large global companies only have a surface-level understanding of where their supply chains are located, associated risks, and how to address them – especially in lower tiers.\n",
            "California’s Transparency in Supply Chains Act and the UK’s Modern Slavery Act require firms to account for human rights impacts, including in supply chains.\n",
            "‘Black swan’ events – which are becoming increasingly frequent despite the term – magnify the weaknesses and fragility of today’s complex supply chains.\n",
            "\n",
            "9: Oil Companies Are Collapsing, but Wind and Solar Energy Keep Growing\n",
            "https://www.nytimes.com/2020/04/07/business/energy-environment/coronavirus-renewable-energy.html?utm_content=125004242&utm_medium=social&utm_source=twitter&hss_channel=tw-456864723\n",
            "A few years ago, the kind of double-digit drop in oil and gas prices the world is experiencing now because of the coronavirus pandemic might have increased the use of fossil fuels and hurt renewable energy sources like wind and solar farms.\n",
            "And while work on some solar and wind projects has been delayed by the outbreak, industry executives and analysts expect the renewable business to continue growing in 2020 and next year even as oil, gas and coal companies struggle financially or seek bankruptcy protection.\n",
            "In many parts of the world, including California and Texas, wind turbines and solar panels now produce electricity more cheaply than natural gas and coal.\n",
            "It also helps that while oil prices have been more than halved since the pandemic forced most state governments to order people to stay home, natural gas and coal prices have not dropped nearly as much.\n",
            "That’s because utilities, as revenue suffers, will try to get more electricity from wind and solar farms, which cost little to operate, and less from power plants fueled by fossil fuels.\n",
            "\n",
            "10: Loi n° 46-628 du 8 avril 1946 sur la nationalisation de l'électricité et du gaz\n",
            "https://www.legifrance.gouv.fr/affichTexte.do?cidTexte=JORFTEXT000000868448&categorieLien=cid\n",
            "Toutefois, ce transfert ne peut porter sur les installations qui ne présentent pour le service public qu'une utilité accessoire.\n",
            "Mais l'électricité ou le gaz produits par ces installations peuvent, en cas de nécessité, être réquisitionnés au profit du service public, pour la partie de la production non consommée dans l'entreprise pour les besoins de son industrie.\n",
            "Sont exclus de la nationalisation :1° La production, le transport et la distribution de gaz naturel.\n",
            "Il ne sera pas tenu compte, pour le calcul de la puissance installée, des installations de récupération d'énergie résiduaire visées au paragraphe 4° précédent.\n",
            "Ces installations doivent être gérées par les collectivités locales selon les diverses modalités définies par le code des communes.\n"
          ],
          "name": "stdout"
        }
      ]
    },
    {
      "cell_type": "code",
      "metadata": {
        "id": "CkTfnKqDidZW",
        "colab_type": "code",
        "outputId": "87f01957-c4a9-40e5-b96d-91176b532d20",
        "colab": {
          "base_uri": "https://localhost:8080/",
          "height": 359
        }
      },
      "source": [
        "top_news_df"
      ],
      "execution_count": 0,
      "outputs": [
        {
          "output_type": "execute_result",
          "data": {
            "text/html": [
              "<div>\n",
              "<style scoped>\n",
              "    .dataframe tbody tr th:only-of-type {\n",
              "        vertical-align: middle;\n",
              "    }\n",
              "\n",
              "    .dataframe tbody tr th {\n",
              "        vertical-align: top;\n",
              "    }\n",
              "\n",
              "    .dataframe thead th {\n",
              "        text-align: right;\n",
              "    }\n",
              "</style>\n",
              "<table border=\"1\" class=\"dataframe\">\n",
              "  <thead>\n",
              "    <tr style=\"text-align: right;\">\n",
              "      <th></th>\n",
              "      <th>Link</th>\n",
              "      <th>AuthorName</th>\n",
              "      <th>RetweetCount</th>\n",
              "      <th>Headline</th>\n",
              "      <th>Date</th>\n",
              "      <th>Summary</th>\n",
              "      <th>Text</th>\n",
              "    </tr>\n",
              "  </thead>\n",
              "  <tbody>\n",
              "    <tr>\n",
              "      <th>1</th>\n",
              "      <td>https://www.lemonde.fr/politique/article/2020/...</td>\n",
              "      <td>1</td>\n",
              "      <td>3</td>\n",
              "      <td></td>\n",
              "      <td></td>\n",
              "      <td></td>\n",
              "      <td></td>\n",
              "    </tr>\n",
              "    <tr>\n",
              "      <th>2</th>\n",
              "      <td>https://www.weforum.org/agenda/2020/04/outbrea...</td>\n",
              "      <td>1</td>\n",
              "      <td>19</td>\n",
              "      <td></td>\n",
              "      <td></td>\n",
              "      <td></td>\n",
              "      <td></td>\n",
              "    </tr>\n",
              "    <tr>\n",
              "      <th>3</th>\n",
              "      <td>https://www.spglobal.com/marketintelligence/en...</td>\n",
              "      <td>1</td>\n",
              "      <td>3</td>\n",
              "      <td></td>\n",
              "      <td></td>\n",
              "      <td></td>\n",
              "      <td></td>\n",
              "    </tr>\n",
              "    <tr>\n",
              "      <th>4</th>\n",
              "      <td>https://www.reuters.com/article/us-usa-stocks/...</td>\n",
              "      <td>1</td>\n",
              "      <td>6</td>\n",
              "      <td></td>\n",
              "      <td></td>\n",
              "      <td></td>\n",
              "      <td></td>\n",
              "    </tr>\n",
              "    <tr>\n",
              "      <th>5</th>\n",
              "      <td>https://www.reuters.com/article/us-equinor-win...</td>\n",
              "      <td>1</td>\n",
              "      <td>1</td>\n",
              "      <td></td>\n",
              "      <td></td>\n",
              "      <td></td>\n",
              "      <td></td>\n",
              "    </tr>\n",
              "    <tr>\n",
              "      <th>6</th>\n",
              "      <td>https://www.reuters.com/article/uk-health-coro...</td>\n",
              "      <td>1</td>\n",
              "      <td>0</td>\n",
              "      <td></td>\n",
              "      <td></td>\n",
              "      <td></td>\n",
              "      <td></td>\n",
              "    </tr>\n",
              "    <tr>\n",
              "      <th>7</th>\n",
              "      <td>https://www.reuters.com/article/uk-health-coro...</td>\n",
              "      <td>1</td>\n",
              "      <td>2</td>\n",
              "      <td></td>\n",
              "      <td></td>\n",
              "      <td></td>\n",
              "      <td></td>\n",
              "    </tr>\n",
              "    <tr>\n",
              "      <th>8</th>\n",
              "      <td>https://www.responsible-investor.com/articles/...</td>\n",
              "      <td>1</td>\n",
              "      <td>2</td>\n",
              "      <td></td>\n",
              "      <td></td>\n",
              "      <td></td>\n",
              "      <td></td>\n",
              "    </tr>\n",
              "    <tr>\n",
              "      <th>9</th>\n",
              "      <td>https://www.nytimes.com/2020/04/07/business/en...</td>\n",
              "      <td>1</td>\n",
              "      <td>0</td>\n",
              "      <td></td>\n",
              "      <td></td>\n",
              "      <td></td>\n",
              "      <td></td>\n",
              "    </tr>\n",
              "    <tr>\n",
              "      <th>10</th>\n",
              "      <td>https://www.legifrance.gouv.fr/affichTexte.do?...</td>\n",
              "      <td>1</td>\n",
              "      <td>2</td>\n",
              "      <td></td>\n",
              "      <td></td>\n",
              "      <td></td>\n",
              "      <td></td>\n",
              "    </tr>\n",
              "  </tbody>\n",
              "</table>\n",
              "</div>"
            ],
            "text/plain": [
              "                                                 Link  AuthorName  ...  Summary Text\n",
              "1   https://www.lemonde.fr/politique/article/2020/...           1  ...              \n",
              "2   https://www.weforum.org/agenda/2020/04/outbrea...           1  ...              \n",
              "3   https://www.spglobal.com/marketintelligence/en...           1  ...              \n",
              "4   https://www.reuters.com/article/us-usa-stocks/...           1  ...              \n",
              "5   https://www.reuters.com/article/us-equinor-win...           1  ...              \n",
              "6   https://www.reuters.com/article/uk-health-coro...           1  ...              \n",
              "7   https://www.reuters.com/article/uk-health-coro...           1  ...              \n",
              "8   https://www.responsible-investor.com/articles/...           1  ...              \n",
              "9   https://www.nytimes.com/2020/04/07/business/en...           1  ...              \n",
              "10  https://www.legifrance.gouv.fr/affichTexte.do?...           1  ...              \n",
              "\n",
              "[10 rows x 7 columns]"
            ]
          },
          "metadata": {
            "tags": []
          },
          "execution_count": 207
        }
      ]
    },
    {
      "cell_type": "code",
      "metadata": {
        "id": "kpzjC_brgmJD",
        "colab_type": "code",
        "colab": {}
      },
      "source": [
        ""
      ],
      "execution_count": 0,
      "outputs": []
    },
    {
      "cell_type": "code",
      "metadata": {
        "id": "BkHQ-96WgmNC",
        "colab_type": "code",
        "colab": {}
      },
      "source": [
        ""
      ],
      "execution_count": 0,
      "outputs": []
    },
    {
      "cell_type": "markdown",
      "metadata": {
        "id": "7tU9I3IrhW2s",
        "colab_type": "text"
      },
      "source": [
        "Other useful stuff \n",
        "\n",
        "\n",
        "You can get the list of atributes here:\n",
        "https://developer.twitter.com/en/docs/tweets/data-dictionary/overview/tweet-object\n",
        "\n",
        "this is the regular expression for getting URLS from text:\n",
        "re.findall('http[s]?://(?:[a-zA-Z]|[0-9]|[$-_@.&+]|[!*\\(\\),]|(?:%[0-9a-fA-F][0-9a-fA-F]))+', tweet.text)\n"
      ]
    }
  ]
}